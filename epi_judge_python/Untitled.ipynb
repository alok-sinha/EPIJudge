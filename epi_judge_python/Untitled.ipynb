{
 "cells": [
  {
   "cell_type": "code",
   "execution_count": 1,
   "metadata": {},
   "outputs": [
    {
     "name": "stderr",
     "output_type": "stream",
     "text": [
      "usage: ipykernel_launcher.py [-h] [--test-data-dir [TEST_DATA_DIR]]\n",
      "                             [--no-verbose] [--force-tty] [--no-tty]\n",
      "                             [--force-color] [--no-color] [--no-update-js]\n",
      "ipykernel_launcher.py: error: unrecognized arguments: -f /Users/alokk/Library/Jupyter/runtime/kernel-7b5bcf83-f205-4d5a-8778-ced90b904e00.json\n"
     ]
    },
    {
     "ename": "SystemExit",
     "evalue": "2",
     "output_type": "error",
     "traceback": [
      "An exception has occurred, use %tb to see the full traceback.\n",
      "\u001b[0;31mSystemExit\u001b[0m\u001b[0;31m:\u001b[0m 2\n"
     ]
    },
    {
     "name": "stderr",
     "output_type": "stream",
     "text": [
      "/anaconda3/lib/python3.6/site-packages/IPython/core/interactiveshell.py:2918: UserWarning: To exit: use 'exit', 'quit', or Ctrl-D.\n",
      "  warn(\"To exit: use 'exit', 'quit', or Ctrl-D.\", stacklevel=1)\n"
     ]
    }
   ],
   "source": [
    "from test_framework import generic_test, test_utils\n",
    "\n",
    "from collections import defaultdict\n",
    "def find_anagrams(dictionary):\n",
    "    # TODO - you fill in here.\n",
    "    # Alok\n",
    "    anagrams = defaultdict(list)\n",
    "\n",
    "    for word in dictionary:\n",
    "        anagrams[tuple(sorted(word))].append(word)\n",
    "\n",
    "\n",
    "    return [e for e in anagrams.values() if len(e) > 1]\n",
    "\n",
    "\n",
    "\n",
    "if __name__ == '__main__':\n",
    "    exit(\n",
    "        generic_test.generic_test_main(\n",
    "            \"anagrams.py\",\n",
    "            \"anagrams.tsv\",\n",
    "            find_anagrams,\n",
    "            comparator=test_utils.unordered_compare))"
   ]
  },
  {
   "cell_type": "code",
   "execution_count": null,
   "metadata": {},
   "outputs": [],
   "source": []
  }
 ],
 "metadata": {
  "kernelspec": {
   "display_name": "Python 3",
   "language": "python",
   "name": "python3"
  },
  "language_info": {
   "codemirror_mode": {
    "name": "ipython",
    "version": 3
   },
   "file_extension": ".py",
   "mimetype": "text/x-python",
   "name": "python",
   "nbconvert_exporter": "python",
   "pygments_lexer": "ipython3",
   "version": "3.6.4"
  }
 },
 "nbformat": 4,
 "nbformat_minor": 2
}
